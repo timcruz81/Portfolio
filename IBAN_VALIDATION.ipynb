{
  "cells": [
    {
      "cell_type": "markdown",
      "metadata": {
        "id": "view-in-github",
        "colab_type": "text"
      },
      "source": [
        "<a href=\"https://colab.research.google.com/github/timcruz81/Portfolio/blob/main/IBAN_VALIDATION.ipynb\" target=\"_parent\"><img src=\"https://colab.research.google.com/assets/colab-badge.svg\" alt=\"Open In Colab\"/></a>"
      ]
    },
    {
      "cell_type": "markdown",
      "metadata": {
        "id": "ef3Q-INT5UCF"
      },
      "source": [
        "# **International Bank Account Number**"
      ]
    },
    {
      "cell_type": "markdown",
      "source": [
        "The International Bank Account Number (IBAN) is an internationally agreed system of identifying bank accounts across national borders to facilitate the communication and processing of cross border transactions with a reduced risk of transcription errors. An IBAN uniquely identifies the account of a customer at a financial institution.\n"
      ],
      "metadata": {
        "id": "l3bJa_0tjpNb"
      }
    },
    {
      "cell_type": "markdown",
      "source": [
        "### **Validating the IBAN**"
      ],
      "metadata": {
        "id": "ZbXkEBOjjpJd"
      }
    },
    {
      "cell_type": "markdown",
      "source": [
        "An IBAN is validated by converting it into an integer and performing a basic mod-97 operation (as described in ISO 7064) on it. If the IBAN is valid, the remainder equals 1.\n"
      ],
      "metadata": {
        "id": "E3IrVqbljpHU"
      }
    },
    {
      "cell_type": "markdown",
      "source": [
        "The algorithm of IBAN validation is as follows:\n",
        "\n",
        "* Check that the total IBAN length is correct as per the country. If not, the IBAN is invalid\n",
        "\n",
        "* Move the four initial characters to the end of the string\n",
        "\n",
        "* Replace each letter in the string with two digits, thereby expanding the string, where A = 10, B = 11, ..., Z = 35\n",
        "\n",
        "* Interpret the string as a decimal integer and compute the remainder of that number on division by 97\n",
        "\n",
        "* If the remainder is 1, the check digit test is passed and the IBAN might be valid."
      ],
      "metadata": {
        "id": "fmWx3SazjpFF"
      }
    },
    {
      "cell_type": "markdown",
      "source": [
        "### **Example**"
      ],
      "metadata": {
        "id": "OAwEE0tbjpCg"
      }
    },
    {
      "cell_type": "markdown",
      "source": [
        "(fictitious United Kingdom bank, sort code 12-34-56, account number 98765432):\n",
        "\n",
        "• IBAN:\t\tGB82 WEST 1234 5698 7654 32\t\n",
        "• Rearrange:\t\tW E S T12345698765432 G B82\t\n",
        "• Convert to integer:\t\t3214282912345698765432161182\t\n",
        "• Compute remainder:\t\t3214282912345698765432161182\tmod 97 = 1"
      ],
      "metadata": {
        "id": "UdQf0BX1jo__"
      }
    },
    {
      "cell_type": "markdown",
      "source": [
        "### **Simulator**"
      ],
      "metadata": {
        "id": "S8DRkBxjjo9g"
      }
    },
    {
      "cell_type": "code",
      "execution_count": null,
      "metadata": {
        "colab": {
          "base_uri": "https://localhost:8080/"
        },
        "id": "TTfWoPAp5TQi",
        "outputId": "9a0e5fed-5539-42cb-fe1f-b457e412c193"
      },
      "outputs": [
        {
          "name": "stdout",
          "output_type": "stream",
          "text": [
            "Insert your IBAN: GB82 wEST12345698765432\n",
            "IBAN válido\n"
          ]
        }
      ],
      "source": [
        "import random\n",
        "\n",
        "def play():\n",
        "        count = 0\n",
        "\n",
        "          # Keep looping until we return\n",
        "        while True:\n",
        "        \n",
        "                count += 1\n",
        "                  \n",
        "                x = input(\"Insert your IBAN: \")   #Insert IBAN  \n",
        "                IBAN = x.upper().replace(\" \",\"\")   #remove space and upper every letter\n",
        "                \n",
        "                #Creating a list with each letter of the IBAN\n",
        "                lst = []\n",
        "                \n",
        "                for letter in IBAN:\n",
        "                    lst.append(letter)\n",
        "\n",
        "                #Moving the four initial characters to the end of the string\n",
        "  \n",
        "                l = lst[4:] + lst[0:4]\n",
        "\n",
        "                #Replacing each letter in the string with two digits     \n",
        "                \n",
        "                for i in range(len(l)):\n",
        "                  \n",
        "                    if l[i] in ['0','1','2','3','4','5','6','7','8','9']: \n",
        "                        l[i] = l[i]\n",
        "                    else:\n",
        "                        l[i] = str(ord(l[i]) - 55)  #where A = 10, B = 11, ..., Z = 35\n",
        "\n",
        "                #Transforming the list in a number and test the mod 97 condition.   \n",
        "                \n",
        "                b = ''.join(l)    #expanding the string\n",
        "                c = int(b)        #changing for number type\n",
        "                \n",
        "                #Computing the number on division by 97\n",
        "                \n",
        "                if c % 97 == 1:               \n",
        "                  print(\"valid IBAN\") #if the remainder is 1, the IBAN might be valid.\n",
        "\n",
        "                else: \n",
        "                  print(\"invalid IBAN\")\n",
        "                  return  # leave play\n",
        "\n",
        "def main():\n",
        "    \n",
        "     while True:    \n",
        "         play()\n",
        "\n",
        "         play_again = input('Insert another IBAN? y/n: ') == 'y'\n",
        "         if not play_again:\n",
        "             return  # leave main\n",
        "\n",
        "main()"
      ]
    }
  ],
  "metadata": {
    "colab": {
      "provenance": [],
      "collapsed_sections": [],
      "authorship_tag": "ABX9TyO1AKH0QcdKQ4qSjAK8aBB5",
      "include_colab_link": true
    },
    "kernelspec": {
      "display_name": "Python 3",
      "name": "python3"
    },
    "language_info": {
      "name": "python"
    }
  },
  "nbformat": 4,
  "nbformat_minor": 0
}